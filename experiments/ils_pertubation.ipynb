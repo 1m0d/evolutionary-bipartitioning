{
 "cells": [
  {
   "cell_type": "code",
   "execution_count": 1,
   "id": "3bd2ccdc-6e57-4ef3-b26c-1775604902b3",
   "metadata": {
    "tags": []
   },
   "outputs": [],
   "source": [
    "from src.graph import Graph\n",
    "from constants import ROOT_DIR\n",
    "from os import path\n",
    "\n",
    "graph = Graph.from_file(path.join(ROOT_DIR, \"graph.txt\"))"
   ]
  },
  {
   "cell_type": "code",
   "execution_count": 2,
   "id": "49ff21e8-c625-41d5-a566-9b3502a7fce1",
   "metadata": {
    "tags": []
   },
   "outputs": [],
   "source": [
    "import numpy as np\n",
    "\n",
    "from src.metaheuristics import iterated_local_search\n",
    "from src.graph import GRAPH_SIZE\n",
    "from src.fm import fm_pass\n",
    "\n",
    "def pertubation():\n",
    "    # Initialize the counters\n",
    "    same_local_optima_counts = []\n",
    "    perturbation_sizes = np.arange(0, 1, 0.002)\n",
    "    initial_solution = None\n",
    "    cuts = []\n",
    "    \n",
    "    for idx, perturbation_size in enumerate(perturbation_sizes):\n",
    "        _, cut, local_optimum_same = iterated_local_search(graph, 10000, perturbation_size)\n",
    "        cuts.append((cut, perturbation_size, local_optimum_same))\n",
    "        \n",
    "        if len(cuts) > 2 and cut > cuts[idx-1][0] and cut > cuts[idx-2][0]:\n",
    "            return cuts\n",
    "    \n",
    "    return cuts\n",
    "\n",
    "data = []\n",
    "for _ in range(10):\n",
    "    data.append(pertubation())"
   ]
  },
  {
   "cell_type": "code",
   "execution_count": 3,
   "id": "e6b00226-30ad-4d2d-b059-918afe8be1a0",
   "metadata": {
    "tags": []
   },
   "outputs": [
    {
     "data": {
      "text/plain": [
       "[[(61, 0.0, 9998),\n",
       "  (48, 0.002, 9997),\n",
       "  (41, 0.004, 9997),\n",
       "  (25, 0.006, 9991),\n",
       "  (35, 0.008, 9991),\n",
       "  (43, 0.01, 9992)],\n",
       " [(39, 0.0, 9997),\n",
       "  (59, 0.002, 9996),\n",
       "  (33, 0.004, 9993),\n",
       "  (40, 0.006, 9993),\n",
       "  (42, 0.008, 9992)],\n",
       " [(35, 0.0, 9996),\n",
       "  (55, 0.002, 9998),\n",
       "  (31, 0.004, 9993),\n",
       "  (28, 0.006, 9993),\n",
       "  (36, 0.008, 9993)],\n",
       " [(51, 0.0, 9998),\n",
       "  (42, 0.002, 9995),\n",
       "  (36, 0.004, 9995),\n",
       "  (42, 0.006, 9995),\n",
       "  (28, 0.008, 9994),\n",
       "  (36, 0.01, 9983),\n",
       "  (39, 0.012, 9994)],\n",
       " [(41, 0.0, 9996), (47, 0.002, 9998), (39, 0.004, 9996), (49, 0.006, 9996)],\n",
       " [(42, 0.0, 9997),\n",
       "  (52, 0.002, 9997),\n",
       "  (33, 0.004, 9987),\n",
       "  (39, 0.006, 9995),\n",
       "  (39, 0.008, 9991),\n",
       "  (19, 0.01, 9989),\n",
       "  (17, 0.012, 9992),\n",
       "  (37, 0.014, 9995)],\n",
       " [(57, 0.0, 9997),\n",
       "  (42, 0.002, 9996),\n",
       "  (28, 0.004, 9992),\n",
       "  (28, 0.006, 9992),\n",
       "  (42, 0.008, 9992)],\n",
       " [(56, 0.0, 9997),\n",
       "  (41, 0.002, 9996),\n",
       "  (38, 0.004, 9993),\n",
       "  (27, 0.006, 9993),\n",
       "  (36, 0.008, 9994),\n",
       "  (28, 0.01, 9995),\n",
       "  (31, 0.012, 9993),\n",
       "  (48, 0.014, 9990)],\n",
       " [(35, 0.0, 9996),\n",
       "  (41, 0.002, 9996),\n",
       "  (35, 0.004, 9993),\n",
       "  (29, 0.006, 9995),\n",
       "  (18, 0.008, 9992),\n",
       "  (32, 0.01, 9993)],\n",
       " [(29, 0.0, 9997),\n",
       "  (41, 0.002, 9998),\n",
       "  (35, 0.004, 9991),\n",
       "  (27, 0.006, 9989),\n",
       "  (32, 0.008, 9993),\n",
       "  (17, 0.01, 9985),\n",
       "  (40, 0.012, 9994)]]"
      ]
     },
     "execution_count": 3,
     "metadata": {},
     "output_type": "execute_result"
    }
   ],
   "source": [
    "data"
   ]
  },
  {
   "cell_type": "code",
   "execution_count": null,
   "id": "17c585b2-809e-4d53-8413-0335a141b8b3",
   "metadata": {},
   "outputs": [],
   "source": []
  }
 ],
 "metadata": {
  "kernelspec": {
   "display_name": "Python 3 (ipykernel)",
   "language": "python",
   "name": "python3"
  },
  "language_info": {
   "codemirror_mode": {
    "name": "ipython",
    "version": 3
   },
   "file_extension": ".py",
   "mimetype": "text/x-python",
   "name": "python",
   "nbconvert_exporter": "python",
   "pygments_lexer": "ipython3",
   "version": "3.11.2"
  }
 },
 "nbformat": 4,
 "nbformat_minor": 5
}
